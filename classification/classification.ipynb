{
 "cells": [
  {
   "cell_type": "markdown",
   "id": "9428c406-1d16-4f82-96df-7b2ff7c8cee0",
   "metadata": {},
   "source": [
    "# Classification\n",
    "\n",
    "Several models will be trialed out:\n",
    "\n",
    "- VADER\r",
    "- \n",
    "SiEBER: English-Language Sentiment Classificatio\n",
    "- \r\n",
    "FinBERT\r\n"
   ]
  },
  {
   "cell_type": "markdown",
   "id": "b5e5666a-570c-49e0-ac18-1f25ac20dcab",
   "metadata": {},
   "source": [
    "## 1) VADER\n",
    "\n",
    "Runs on non-preprocessed, raw dataset.\n",
    "\n",
    "Ref: https://github.com/cjhutto/vaderSentiment "
   ]
  },
  {
   "cell_type": "code",
   "execution_count": 1,
   "id": "61dc4f27-149b-48e4-ae7f-dc37536b9004",
   "metadata": {},
   "outputs": [
    {
     "name": "stdout",
     "output_type": "stream",
     "text": [
      "Collecting vaderSentiment\n",
      "  Downloading vaderSentiment-3.3.2-py2.py3-none-any.whl.metadata (572 bytes)\n",
      "Requirement already satisfied: requests in c:\\users\\ngzhe\\anaconda3\\lib\\site-packages (from vaderSentiment) (2.31.0)\n",
      "Requirement already satisfied: charset-normalizer<4,>=2 in c:\\users\\ngzhe\\anaconda3\\lib\\site-packages (from requests->vaderSentiment) (2.0.4)\n",
      "Requirement already satisfied: idna<4,>=2.5 in c:\\users\\ngzhe\\anaconda3\\lib\\site-packages (from requests->vaderSentiment) (2.10)\n",
      "Requirement already satisfied: urllib3<3,>=1.21.1 in c:\\users\\ngzhe\\anaconda3\\lib\\site-packages (from requests->vaderSentiment) (1.26.18)\n",
      "Requirement already satisfied: certifi>=2017.4.17 in c:\\users\\ngzhe\\anaconda3\\lib\\site-packages (from requests->vaderSentiment) (2023.7.22)\n",
      "Downloading vaderSentiment-3.3.2-py2.py3-none-any.whl (125 kB)\n",
      "   ---------------------------------------- 0.0/126.0 kB ? eta -:--:--\n",
      "   --- ------------------------------------ 10.2/126.0 kB ? eta -:--:--\n",
      "   ---------------------------------------- 126.0/126.0 kB 2.5 MB/s eta 0:00:00\n",
      "Installing collected packages: vaderSentiment\n",
      "Successfully installed vaderSentiment-3.3.2\n"
     ]
    },
    {
     "name": "stderr",
     "output_type": "stream",
     "text": [
      "WARNING: Ignoring invalid distribution -pencv-python (c:\\users\\ngzhe\\anaconda3\\lib\\site-packages)\n",
      "WARNING: Ignoring invalid distribution -pencv-python (c:\\users\\ngzhe\\anaconda3\\lib\\site-packages)\n",
      "\n",
      "[notice] A new release of pip is available: 23.2.1 -> 24.0\n",
      "[notice] To update, run: python.exe -m pip install --upgrade pip\n"
     ]
    }
   ],
   "source": [
    "!pip install vaderSentiment"
   ]
  },
  {
   "cell_type": "code",
   "execution_count": 3,
   "id": "6a94095e-2edd-47ed-8d2f-87467bd7bedc",
   "metadata": {},
   "outputs": [],
   "source": [
    "from vaderSentiment.vaderSentiment import SentimentIntensityAnalyzer\n",
    "analyzer = SentimentIntensityAnalyzer()"
   ]
  },
  {
   "cell_type": "code",
   "execution_count": 8,
   "id": "80d602d4-e6a8-4e58-811e-e77ef6cc717a",
   "metadata": {},
   "outputs": [],
   "source": [
    "# load dataset as a list of strings\n",
    "import csv\n",
    "\n",
    "with open('../data/cleaned_data.csv', newline='', encoding = 'cp850') as f:\n",
    "    reader = csv.reader(f)\n",
    "    data = list(reader)"
   ]
  },
  {
   "cell_type": "code",
   "execution_count": 10,
   "id": "aebfc7cb-87f7-4c03-82c0-6f03f2180a7f",
   "metadata": {},
   "outputs": [
    {
     "name": "stdout",
     "output_type": "stream",
     "text": [
      "7197\n"
     ]
    }
   ],
   "source": [
    "print(len(data))"
   ]
  },
  {
   "cell_type": "code",
   "execution_count": null,
   "id": "a7039de7-5971-4d97-9843-e36d83c2b730",
   "metadata": {},
   "outputs": [],
   "source": []
  },
  {
   "cell_type": "code",
   "execution_count": null,
   "id": "e0e92260-a0b4-47e2-8424-6d0d5288dc38",
   "metadata": {},
   "outputs": [],
   "source": []
  }
 ],
 "metadata": {
  "kernelspec": {
   "display_name": "Python 3 (ipykernel)",
   "language": "python",
   "name": "python3"
  },
  "language_info": {
   "codemirror_mode": {
    "name": "ipython",
    "version": 3
   },
   "file_extension": ".py",
   "mimetype": "text/x-python",
   "name": "python",
   "nbconvert_exporter": "python",
   "pygments_lexer": "ipython3",
   "version": "3.8.18"
  }
 },
 "nbformat": 4,
 "nbformat_minor": 5
}
