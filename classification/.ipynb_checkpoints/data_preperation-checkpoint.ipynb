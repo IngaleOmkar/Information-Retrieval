{
 "cells": [
  {
   "cell_type": "markdown",
   "metadata": {},
   "source": [
    "## DATA PREPARATION\n",
    "\n",
    "The file is intended to be run only once to generate cleaned_data.csv and subj_polarity_data.csv. These datasets are then used in other notebooks for further processing and training the models."
   ]
  },
  {
   "cell_type": "code",
   "execution_count": null,
   "metadata": {},
   "outputs": [],
   "source": [
    "import pandas as pd\n",
    "import re\n",
    "from textblob import TextBlob\n",
    "import nltk\n",
    "from nltk.corpus import stopwords\n",
    "from nltk.tokenize import word_tokenize"
   ]
  },
  {
   "cell_type": "code",
   "execution_count": 15,
   "metadata": {},
   "outputs": [
    {
     "name": "stderr",
     "output_type": "stream",
     "text": [
      "[nltk_data] Downloading package punkt to\n",
      "[nltk_data]     C:\\Users\\Neel\\AppData\\Roaming\\nltk_data...\n",
      "[nltk_data]   Package punkt is already up-to-date!\n",
      "[nltk_data] Downloading package stopwords to\n",
      "[nltk_data]     C:\\Users\\Neel\\AppData\\Roaming\\nltk_data...\n",
      "[nltk_data]   Package stopwords is already up-to-date!\n"
     ]
    },
    {
     "name": "stdout",
     "output_type": "stream",
     "text": [
      "   Unnamed: 0                                              title  score  \\\n",
      "0           0                      Are we in a recession or not?      2   \n",
      "1           1    What Are Your Moves Tomorrow, February 26, 2024      1   \n",
      "2           2                             Thank you Nancy Pelosi    113   \n",
      "3           3  Imitator's Reckoning: $AI Anticipating a Downf...     17   \n",
      "4           4                  What are the AI derivative plays?      9   \n",
      "\n",
      "        id       subreddit                                                url  \\\n",
      "0  1azytar  wallstreetbets               https://i.redd.it/8xp7l2atpskc1.jpeg   \n",
      "1  1azyssf  wallstreetbets  https://www.reddit.com/r/wallstreetbets/commen...   \n",
      "2  1azxsze  wallstreetbets               https://i.redd.it/symyx8lniskc1.jpeg   \n",
      "3  1azx26v  wallstreetbets  https://www.reddit.com/r/wallstreetbets/commen...   \n",
      "4  1azvuxx  wallstreetbets  https://www.reddit.com/r/wallstreetbets/commen...   \n",
      "\n",
      "   num_comments                                               body  \\\n",
      "0             3  Lately I've seen big drops in Capacity Utiliza...   \n",
      "1            28  Make sure you're in the [WSB Discord](https://...   \n",
      "2            20  I’m 18, convinced my mom to give me a grand to...   \n",
      "3             9     \\nC3.ai's aggressive advertising strategy, ...   \n",
      "4            38  If NVIDIA and AMD are the first movers in the ...   \n",
      "\n",
      "      created                                       cleaned_text  \n",
      "0  2024-02-25  lately seen big drops capacity utilization eur...  \n",
      "1  2024-02-25  make sure wsb discord https check earnings thr...  \n",
      "2  2024-02-25  convinced mom give grand trade split profit pu...  \n",
      "3  2024-02-25  aggressive advertising strategy allocating sub...  \n",
      "4  2024-02-25  nvidia amd first movers ai revolution let assu...  \n"
     ]
    }
   ],
   "source": [
    "# Ensure you have these NLTK data downloaded\n",
    "nltk.download('punkt')\n",
    "nltk.download('stopwords')\n",
    "\n",
    "# Load your dataset\n",
    "df = pd.read_csv('../data/data.csv')\n",
    "\n",
    "# Drop rows where 'body' is NaN\n",
    "df = df.dropna(subset=['body'])\n",
    "\n",
    "# Sample data cleaning function, updated to remove symbols\n",
    "def clean_text(text):\n",
    "    # Ensure text is a string\n",
    "    if not isinstance(text, str):\n",
    "        return \"\"  # Return a blank string for non-string inputs\n",
    "    # Remove symbols like *, $, ~\n",
    "    text = re.sub(r'[\\*\\$~]', '', text)\n",
    "    # Tokenize the text\n",
    "    tokens = word_tokenize(text)\n",
    "    # Lowercase and keep only alphabetic words, remove numbers and punctuation\n",
    "    tokens = [word.lower() for word in tokens if word.isalpha()]\n",
    "    # Remove stopwords\n",
    "    tokens = [word for word in tokens if word not in stopwords.words('english')]\n",
    "    # Join the tokens back into a string\n",
    "    cleaned_text = ' '.join(tokens)\n",
    "    return cleaned_text\n",
    "\n",
    "# Use the 'body' column for text analysis\n",
    "df['cleaned_text'] = df['body'].apply(clean_text)\n",
    "\n",
    "print(df.head())"
   ]
  },
  {
   "cell_type": "code",
   "execution_count": 16,
   "metadata": {},
   "outputs": [
    {
     "name": "stdout",
     "output_type": "stream",
     "text": [
      "Dataset saved\n"
     ]
    }
   ],
   "source": [
    "# Save the DataFrame to a new CSV file\n",
    "df.to_csv('../data/cleaned_data.csv', index=False)  # Set index=False to avoid saving the DataFrame index as a separate column\n",
    "\n",
    "print(\"Dataset saved\")"
   ]
  },
  {
   "cell_type": "code",
   "execution_count": 17,
   "metadata": {},
   "outputs": [
    {
     "name": "stdout",
     "output_type": "stream",
     "text": [
      "   Unnamed: 0                                              title  score  \\\n",
      "0           0                      Are we in a recession or not?      2   \n",
      "1           1    What Are Your Moves Tomorrow, February 26, 2024      1   \n",
      "2           2                             Thank you Nancy Pelosi    113   \n",
      "3           3  Imitator's Reckoning: $AI Anticipating a Downf...     17   \n",
      "4           4                  What are the AI derivative plays?      9   \n",
      "\n",
      "        id       subreddit                                                url  \\\n",
      "0  1azytar  wallstreetbets               https://i.redd.it/8xp7l2atpskc1.jpeg   \n",
      "1  1azyssf  wallstreetbets  https://www.reddit.com/r/wallstreetbets/commen...   \n",
      "2  1azxsze  wallstreetbets               https://i.redd.it/symyx8lniskc1.jpeg   \n",
      "3  1azx26v  wallstreetbets  https://www.reddit.com/r/wallstreetbets/commen...   \n",
      "4  1azvuxx  wallstreetbets  https://www.reddit.com/r/wallstreetbets/commen...   \n",
      "\n",
      "   num_comments                                               body  \\\n",
      "0             3  Lately I've seen big drops in Capacity Utiliza...   \n",
      "1            28  Make sure you're in the [WSB Discord](https://...   \n",
      "2            20  I’m 18, convinced my mom to give me a grand to...   \n",
      "3             9     \\nC3.ai's aggressive advertising strategy, ...   \n",
      "4            38  If NVIDIA and AMD are the first movers in the ...   \n",
      "\n",
      "      created                                       cleaned_text  \\\n",
      "0  2024-02-25  lately seen big drops capacity utilization eur...   \n",
      "1  2024-02-25  make sure wsb discord https check earnings thr...   \n",
      "2  2024-02-25  convinced mom give grand trade split profit pu...   \n",
      "3  2024-02-25  aggressive advertising strategy allocating sub...   \n",
      "4  2024-02-25  nvidia amd first movers ai revolution let assu...   \n",
      "\n",
      "   subjectivity  polarity  \n",
      "0      0.327500 -0.072500  \n",
      "1      0.644444  0.350000  \n",
      "2      0.644444  0.344444  \n",
      "3      0.445000  0.155000  \n",
      "4      0.158730  0.059524  \n"
     ]
    }
   ],
   "source": [
    "# Subjectivity and Polarity Detection\n",
    "def detect_sentiment(text):\n",
    "    blob = TextBlob(text)\n",
    "    return blob.subjectivity, blob.polarity\n",
    "\n",
    "# Apply sentiment detection\n",
    "df['subjectivity'], df['polarity'] = zip(*df['cleaned_text'].apply(detect_sentiment))\n",
    "\n",
    "# Display the dataframe\n",
    "print(df.head())"
   ]
  },
  {
   "cell_type": "code",
   "execution_count": 18,
   "metadata": {},
   "outputs": [
    {
     "name": "stdout",
     "output_type": "stream",
     "text": [
      "Dataset with initial subjectivity and polarity saved\n"
     ]
    }
   ],
   "source": [
    "\n",
    "df.to_csv(r'C:\\Users\\Neel\\OneDrive\\Desktop\\University\\Y4S2\\IR\\Information-Retrieval\\data\\subj_polarity_data.csv', index=False)  # Set index=False to avoid saving the DataFrame index as a separate column\n",
    "\n",
    "print(\"Dataset with initial subjectivity and polarity saved\")"
   ]
  }
 ],
 "metadata": {
  "kernelspec": {
   "display_name": "Python 3",
   "language": "python",
   "name": "python3"
  },
  "language_info": {
   "codemirror_mode": {
    "name": "ipython",
    "version": 3
   },
   "file_extension": ".py",
   "mimetype": "text/x-python",
   "name": "python",
   "nbconvert_exporter": "python",
   "pygments_lexer": "ipython3",
   "version": "3.10.5"
  }
 },
 "nbformat": 4,
 "nbformat_minor": 2
}
