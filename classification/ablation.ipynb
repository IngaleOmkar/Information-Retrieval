{
 "cells": [
  {
   "cell_type": "markdown",
   "id": "d01fa788-d94a-4f6f-a726-5d2dcb2f999b",
   "metadata": {},
   "source": [
    "# Ablation Study  \n",
    "\n",
    "On the following preprocessing techniques:\n",
    "    \r",
    "    - \n",
    "Special Characters Removal    - \r\n",
    "Stopword Remova    - l\r\n",
    "Lemmatizati    on\r\n",
    "\n",
    "\n",
    "Model used will be VADER, as it gives the best results currently of about .\n",
    "\n",
    "\n"
   ]
  },
  {
   "cell_type": "markdown",
   "id": "9399e2a4-f4d7-4383-8090-d4ab55ff55b2",
   "metadata": {},
   "source": [
    "## Special Chars Removal"
   ]
  },
  {
   "cell_type": "code",
   "execution_count": 29,
   "id": "d1978708-6b9f-4276-967c-57af2dca5407",
   "metadata": {},
   "outputs": [],
   "source": [
    "import re\n",
    "def remove_special_char(df):\n",
    "    # Remove URLS\n",
    "    df.data = df.data.apply(lambda x:re.sub(r\"http\\S+\", \"\", x))\n",
    "    \n",
    "    # Remove all the special characters\n",
    "    df.data   = df.data.apply(lambda x:' '.join(re.findall(r'\\w+', x)))\n",
    "    \n",
    "    print('Finished Special Char Removal')\n",
    "    return df"
   ]
  },
  {
   "cell_type": "markdown",
   "id": "01a1d2d7-d650-45f5-ae6f-bb9c53c412ee",
   "metadata": {},
   "source": [
    "## Stopword Removal"
   ]
  },
  {
   "cell_type": "code",
   "execution_count": 30,
   "id": "54c64c15-4ff4-4a4d-a30f-6a6dd8e767c1",
   "metadata": {},
   "outputs": [],
   "source": [
    "# load stopwords.csv to list\n",
    "import csv\n",
    "stopwords = []\n",
    "\n",
    "with open('../data/stopwords.csv', newline='') as f:\n",
    "    for row in f:\n",
    "        stopwords.append(row.split(',')[0])\n",
    "stopwords = stopwords[1:]"
   ]
  },
  {
   "cell_type": "code",
   "execution_count": 31,
   "id": "93a7cd98-cad4-4db0-8493-5c9b0fb56aad",
   "metadata": {},
   "outputs": [
    {
     "data": {
      "text/plain": [
       "['the', 'to', 'and', 'of', '']"
      ]
     },
     "execution_count": 31,
     "metadata": {},
     "output_type": "execute_result"
    }
   ],
   "source": [
    "stopwords[:5]"
   ]
  },
  {
   "cell_type": "code",
   "execution_count": 36,
   "id": "c871b25c-6703-4cf7-a4b5-e867e36c3ef2",
   "metadata": {},
   "outputs": [],
   "source": [
    "def stopword_removal(df):\n",
    "    for word in stopwords:\n",
    "        # removing stopwords from dataset\n",
    "        # print('Replacing ' + word)\n",
    "        df['data'] = df['data'].apply(lambda x: x.replace(' '+word+' ', ' '))\n",
    "        \n",
    "    print('Finished Stopword Removal')\n",
    "    return df"
   ]
  },
  {
   "cell_type": "markdown",
   "id": "5f3bf492-00b8-45ca-8414-2cc9f9726c3c",
   "metadata": {},
   "source": [
    "## Lemmatization"
   ]
  },
  {
   "cell_type": "code",
   "execution_count": 33,
   "id": "60ae6fcb-8a98-4700-98f8-9bee19ec00fc",
   "metadata": {},
   "outputs": [],
   "source": [
    "from nltk.stem import WordNetLemmatizer\n",
    "lemmatizer = WordNetLemmatizer()"
   ]
  },
  {
   "cell_type": "code",
   "execution_count": 106,
   "id": "34ded374-c638-46b3-9d95-dd5ad3fd243f",
   "metadata": {},
   "outputs": [],
   "source": [
    "def lemmatization(df):\n",
    "    lemma_df = df['data'].apply(lambda x: x.replace(x,lemmatizer.lemmatize(x)))\n",
    "\n",
    "    lemma_df = pd.concat([lemma_df,df['sentiment']], axis = 1)\n",
    "    \n",
    "    print('Finished Lemmatisation')\n",
    "    return lemma_df"
   ]
  },
  {
   "cell_type": "markdown",
   "id": "b74c5339-ea9b-4b96-8c89-c0440b15f67d",
   "metadata": {},
   "source": [
    "## Load Data"
   ]
  },
  {
   "cell_type": "code",
   "execution_count": 20,
   "id": "d105674b-6167-44e2-a20a-7656fb344e8c",
   "metadata": {},
   "outputs": [],
   "source": [
    "eval_set = pd.read_csv('../data/eval_set_labelled.csv')\n",
    "eval = eval_set[['data','sentiment']].copy()"
   ]
  },
  {
   "cell_type": "code",
   "execution_count": 21,
   "id": "25ad4a0a-eb1b-484c-acfe-c72bcf2771ba",
   "metadata": {},
   "outputs": [
    {
     "data": {
      "text/html": [
       "<div>\n",
       "<style scoped>\n",
       "    .dataframe tbody tr th:only-of-type {\n",
       "        vertical-align: middle;\n",
       "    }\n",
       "\n",
       "    .dataframe tbody tr th {\n",
       "        vertical-align: top;\n",
       "    }\n",
       "\n",
       "    .dataframe thead th {\n",
       "        text-align: right;\n",
       "    }\n",
       "</style>\n",
       "<table border=\"1\" class=\"dataframe\">\n",
       "  <thead>\n",
       "    <tr style=\"text-align: right;\">\n",
       "      <th></th>\n",
       "      <th>data</th>\n",
       "      <th>sentiment</th>\n",
       "    </tr>\n",
       "  </thead>\n",
       "  <tbody>\n",
       "    <tr>\n",
       "      <th>0</th>\n",
       "      <td>BlackRock, ProShares Bitcoin ETFs Surpass GBTC...</td>\n",
       "      <td>neutral</td>\n",
       "    </tr>\n",
       "    <tr>\n",
       "      <th>1</th>\n",
       "      <td>Stock Up 400%! Pampa Metals $PMMCF Options New...</td>\n",
       "      <td>positive</td>\n",
       "    </tr>\n",
       "    <tr>\n",
       "      <th>2</th>\n",
       "      <td>Ethereum (ETH) Approaches $4000 In Multi-Week ...</td>\n",
       "      <td>neutral</td>\n",
       "    </tr>\n",
       "    <tr>\n",
       "      <th>3</th>\n",
       "      <td>After a 141% Surge, Golden Inu's Appears To Be...</td>\n",
       "      <td>neutral</td>\n",
       "    </tr>\n",
       "    <tr>\n",
       "      <th>4</th>\n",
       "      <td>(10/18) Tuesday's Pre-Market Stock Movers &amp; Ne...</td>\n",
       "      <td>positive</td>\n",
       "    </tr>\n",
       "    <tr>\n",
       "      <th>5</th>\n",
       "      <td>Miner hosting. We accept any miner above 28th ...</td>\n",
       "      <td>neutral</td>\n",
       "    </tr>\n",
       "    <tr>\n",
       "      <th>6</th>\n",
       "      <td>Plug Power (NASDAQ: PLUG) Shares Soar on $1.6 ...</td>\n",
       "      <td>positive</td>\n",
       "    </tr>\n",
       "    <tr>\n",
       "      <th>7</th>\n",
       "      <td>Sony cuts PlayStation 5 sales forecast to 21 m...</td>\n",
       "      <td>neutral</td>\n",
       "    </tr>\n",
       "    <tr>\n",
       "      <th>8</th>\n",
       "      <td>01/19/24 [Join XRPLounge Discord] - discord.co...</td>\n",
       "      <td>positive</td>\n",
       "    </tr>\n",
       "    <tr>\n",
       "      <th>9</th>\n",
       "      <td>Ethereum Film Featuring Vitalik Buterin Raises...</td>\n",
       "      <td>neutral</td>\n",
       "    </tr>\n",
       "  </tbody>\n",
       "</table>\n",
       "</div>"
      ],
      "text/plain": [
       "                                                data sentiment\n",
       "0  BlackRock, ProShares Bitcoin ETFs Surpass GBTC...   neutral\n",
       "1  Stock Up 400%! Pampa Metals $PMMCF Options New...  positive\n",
       "2  Ethereum (ETH) Approaches $4000 In Multi-Week ...   neutral\n",
       "3  After a 141% Surge, Golden Inu's Appears To Be...   neutral\n",
       "4  (10/18) Tuesday's Pre-Market Stock Movers & Ne...  positive\n",
       "5  Miner hosting. We accept any miner above 28th ...   neutral\n",
       "6  Plug Power (NASDAQ: PLUG) Shares Soar on $1.6 ...  positive\n",
       "7  Sony cuts PlayStation 5 sales forecast to 21 m...   neutral\n",
       "8  01/19/24 [Join XRPLounge Discord] - discord.co...  positive\n",
       "9  Ethereum Film Featuring Vitalik Buterin Raises...   neutral"
      ]
     },
     "execution_count": 21,
     "metadata": {},
     "output_type": "execute_result"
    }
   ],
   "source": [
    "eval[:10]"
   ]
  },
  {
   "cell_type": "markdown",
   "id": "f0a07087-70ff-456b-b0fd-d652ee4e9c01",
   "metadata": {},
   "source": [
    "## VADER Setup"
   ]
  },
  {
   "cell_type": "code",
   "execution_count": 22,
   "id": "96be2814-3305-4343-9859-342d15e362b2",
   "metadata": {},
   "outputs": [],
   "source": [
    "from vaderSentiment.vaderSentiment import SentimentIntensityAnalyzer\n",
    "analyzer = SentimentIntensityAnalyzer()"
   ]
  },
  {
   "cell_type": "code",
   "execution_count": 69,
   "id": "feff5758-72a6-46ec-bf35-a73b6879a391",
   "metadata": {},
   "outputs": [],
   "source": [
    "import numpy as np\n",
    "def vader_eval(df, df_name):\n",
    "    # adds 2 columns to dataframe with category and probability\n",
    "    # calculates accuracy\n",
    "    \n",
    "    vader_eval_prob = []\n",
    "    vader_eval_cat = []\n",
    "    \n",
    "    for sentence in df.data:\n",
    "        vs = analyzer.polarity_scores(sentence)\n",
    "        del vs['compound'] # delete composite score before doing argmax()\n",
    "        pred_cat = max(vs, key=vs.get) # argmax over keys\n",
    "        prob = vs[pred_cat]\n",
    "        \n",
    "        vader_eval_cat.append(pred_cat)\n",
    "        vader_eval_prob.append(prob)\n",
    "    \n",
    "    df[\"vader_category\"] = vader_eval_cat\n",
    "    df[\"vader_prob\"] = vader_eval_prob\n",
    "\n",
    "    # calculate accuracy\n",
    "    df['result'] = np.where(df[\"vader_category\"] == df['sentiment'].str[:3], 1, 0)\n",
    "\n",
    "    print('----------' + 'RESULTS FOR ' + df_name + '--------------------')\n",
    "    print(df[:5])\n",
    "    print((df.result.values == 1).mean())\n",
    "    \n",
    "    eval.to_csv('ablation_results/' + df_name + '.csv', encoding='utf-8')\n",
    "    \n",
    "    return df"
   ]
  },
  {
   "cell_type": "markdown",
   "id": "7c3a2e0d-4e16-4f8f-9ab7-24b80bb199a6",
   "metadata": {},
   "source": [
    "## Inference"
   ]
  },
  {
   "cell_type": "code",
   "execution_count": 107,
   "id": "0afe7c93-033a-4023-9b0a-f0410b88f823",
   "metadata": {},
   "outputs": [
    {
     "name": "stdout",
     "output_type": "stream",
     "text": [
      "Finished Special Char Removal\n",
      "Finished Stopword Removal\n",
      "Finished Lemmatisation\n",
      "Finished Stopword Removal\n",
      "Finished Lemmatisation\n",
      "Finished Lemmatisation\n",
      "Finished Lemmatisation\n"
     ]
    }
   ],
   "source": [
    "# naming convention of ablation: XXX, chars are Y/N representing:\n",
    "# Special Characters Removal \n",
    "# Stopword Removal\n",
    "# Lemmatization\n",
    "\n",
    "YNN = remove_special_char(eval)\n",
    "NYN = stopword_removal(eval)\n",
    "NNY = lemmatization(eval)\n",
    "\n",
    "YYN = stopword_removal(YNN)\n",
    "NYY = lemmatization(NYN)\n",
    "YNY = lemmatization(YNN)\n",
    "\n",
    "YYY = lemmatization(YYN)"
   ]
  },
  {
   "cell_type": "code",
   "execution_count": 57,
   "id": "064c0dca-2d47-4dbb-8f55-fff772ae36d5",
   "metadata": {},
   "outputs": [],
   "source": [
    "dataframes = ['YNN','NYN','NNY','YYN','NYY','YNY','YYY']"
   ]
  },
  {
   "cell_type": "code",
   "execution_count": 51,
   "id": "69694c1f-2724-46a9-9fe7-adaa7ecf68af",
   "metadata": {},
   "outputs": [
    {
     "data": {
      "text/plain": [
       "0       neu\n",
       "1       pos\n",
       "2       neu\n",
       "3       neu\n",
       "4       pos\n",
       "       ... \n",
       "998     neu\n",
       "999     neu\n",
       "1000    pos\n",
       "1001    neu\n",
       "1002    pos\n",
       "Name: sentiment, Length: 1003, dtype: object"
      ]
     },
     "execution_count": 51,
     "metadata": {},
     "output_type": "execute_result"
    }
   ],
   "source": [
    "YNN['sentiment'].str[:3]"
   ]
  },
  {
   "cell_type": "code",
   "execution_count": 54,
   "id": "4e679d1c-7d53-453e-8622-394ddc0e0644",
   "metadata": {},
   "outputs": [
    {
     "data": {
      "text/plain": [
       "0       neu\n",
       "1       neu\n",
       "2       neu\n",
       "3       neu\n",
       "4       neu\n",
       "       ... \n",
       "998     neu\n",
       "999     neu\n",
       "1000    neu\n",
       "1001    neu\n",
       "1002    neu\n",
       "Name: vader_category, Length: 1003, dtype: object"
      ]
     },
     "execution_count": 54,
     "metadata": {},
     "output_type": "execute_result"
    }
   ],
   "source": [
    "YNN[\"vader_category\"]"
   ]
  },
  {
   "cell_type": "code",
   "execution_count": 70,
   "id": "160ec448-2ff2-47a8-9358-9a7f0173ef03",
   "metadata": {},
   "outputs": [
    {
     "name": "stdout",
     "output_type": "stream",
     "text": [
      "----------RESULTS FOR NYN--------------------\n",
      "                                                data sentiment vader_category  \\\n",
      "0  BlackRock ProShares Bitcoin ETFs Surpass GBTC ...   neutral            neu   \n",
      "1  Stock Up 400 Pampa Metals PMMCF Options New Go...  positive            neu   \n",
      "2  Ethereum ETH Approaches 4000 In Multi Week Hig...   neutral            neu   \n",
      "3  After 141 Surge Golden Inu s Appears To Be Hea...   neutral            neu   \n",
      "4  10 18 Tuesday s Pre Market Stock Movers News G...  positive            neu   \n",
      "\n",
      "   vader_prob  result  \n",
      "0       1.000       1  \n",
      "1       1.000       0  \n",
      "2       0.784       1  \n",
      "3       1.000       1  \n",
      "4       0.867       0  \n",
      "0.5623130608175474\n"
     ]
    }
   ],
   "source": [
    "NYN_results = vader_eval(NYN, 'NYN')"
   ]
  },
  {
   "cell_type": "code",
   "execution_count": 71,
   "id": "47b34c5c-68d2-481f-8544-bb600f9bdb42",
   "metadata": {},
   "outputs": [
    {
     "data": {
      "text/plain": [
       "False"
      ]
     },
     "execution_count": 71,
     "metadata": {},
     "output_type": "execute_result"
    }
   ],
   "source": [
    "def is_unique(s):\n",
    "    a = s.to_numpy() # s.values (pandas<0.24)\n",
    "    return (a[0] == a).all()\n",
    "\n",
    "is_unique(NYN_results['vader_category'])"
   ]
  },
  {
   "cell_type": "code",
   "execution_count": 72,
   "id": "eb9b9146-98a2-4fd4-a0c3-6daa499eb8c9",
   "metadata": {},
   "outputs": [
    {
     "name": "stdout",
     "output_type": "stream",
     "text": [
      "----------RESULTS FOR YNN--------------------\n",
      "                                                data sentiment vader_category  \\\n",
      "0  BlackRock ProShares Bitcoin ETFs Surpass GBTC ...   neutral            neu   \n",
      "1  Stock Up 400 Pampa Metals PMMCF Options New Go...  positive            neu   \n",
      "2  Ethereum ETH Approaches 4000 In Multi Week Hig...   neutral            neu   \n",
      "3  After 141 Surge Golden Inu s Appears To Be Hea...   neutral            neu   \n",
      "4  10 18 Tuesday s Pre Market Stock Movers News G...  positive            neu   \n",
      "\n",
      "   vader_prob  result  \n",
      "0       1.000       1  \n",
      "1       1.000       0  \n",
      "2       0.784       1  \n",
      "3       1.000       1  \n",
      "4       0.867       0  \n",
      "0.5623130608175474\n"
     ]
    }
   ],
   "source": [
    "YNN_results = vader_eval(YNN, 'YNN')"
   ]
  },
  {
   "cell_type": "code",
   "execution_count": 73,
   "id": "619b64e1-0f17-4e18-a93a-658174b2cedf",
   "metadata": {},
   "outputs": [
    {
     "name": "stdout",
     "output_type": "stream",
     "text": [
      "----------RESULTS FOR NYN--------------------\n",
      "                                                data sentiment vader_category  \\\n",
      "0  BlackRock ProShares Bitcoin ETFs Surpass GBTC ...   neutral            neu   \n",
      "1  Stock Up 400 Pampa Metals PMMCF Options New Go...  positive            neu   \n",
      "2  Ethereum ETH Approaches 4000 In Multi Week Hig...   neutral            neu   \n",
      "3  After 141 Surge Golden Inu s Appears To Be Hea...   neutral            neu   \n",
      "4  10 18 Tuesday s Pre Market Stock Movers News G...  positive            neu   \n",
      "\n",
      "   vader_prob  result  \n",
      "0       1.000       1  \n",
      "1       1.000       0  \n",
      "2       0.784       1  \n",
      "3       1.000       1  \n",
      "4       0.867       0  \n",
      "0.5623130608175474\n"
     ]
    }
   ],
   "source": [
    "NYN_results = vader_eval(NYN, 'NYN')"
   ]
  },
  {
   "cell_type": "code",
   "execution_count": 109,
   "id": "2dbc34d5-d19f-46ab-ba11-e45e9fcc04f4",
   "metadata": {},
   "outputs": [
    {
     "name": "stdout",
     "output_type": "stream",
     "text": [
      "----------RESULTS FOR NNY--------------------\n",
      "                                                data sentiment vader_category  \\\n",
      "0  BlackRock ProShares Bitcoin ETFs Surpass GBTC ...   neutral            neu   \n",
      "1  Stock Up 400 Pampa Metals PMMCF Options New Go...  positive            neu   \n",
      "2  Ethereum ETH Approaches 4000 In Multi Week Hig...   neutral            neu   \n",
      "3  After 141 Surge Golden Inu s Appears To Be Hea...   neutral            neu   \n",
      "4  10 18 Tuesday s Pre Market Stock Movers News G...  positive            neu   \n",
      "\n",
      "   vader_prob  result  \n",
      "0       1.000       1  \n",
      "1       1.000       0  \n",
      "2       0.784       1  \n",
      "3       1.000       1  \n",
      "4       0.867       0  \n",
      "0.5623130608175474\n"
     ]
    }
   ],
   "source": [
    "NNY_results = vader_eval(NNY, 'NNY')"
   ]
  },
  {
   "cell_type": "code",
   "execution_count": 110,
   "id": "d52aa1c6-40cd-40ba-83a5-d9409b9816c4",
   "metadata": {},
   "outputs": [
    {
     "name": "stdout",
     "output_type": "stream",
     "text": [
      "----------RESULTS FOR YYN--------------------\n",
      "                                                data sentiment vader_category  \\\n",
      "0  BlackRock ProShares Bitcoin ETFs Surpass GBTC ...   neutral            neu   \n",
      "1  Stock Up 400 Pampa Metals PMMCF Options New Go...  positive            neu   \n",
      "2  Ethereum ETH Approaches 4000 In Multi Week Hig...   neutral            neu   \n",
      "3  After 141 Surge Golden Inu s Appears To Be Hea...   neutral            neu   \n",
      "4  10 18 Tuesday s Pre Market Stock Movers News G...  positive            neu   \n",
      "\n",
      "   vader_prob  result  \n",
      "0       1.000       1  \n",
      "1       1.000       0  \n",
      "2       0.784       1  \n",
      "3       1.000       1  \n",
      "4       0.867       0  \n",
      "0.5623130608175474\n"
     ]
    }
   ],
   "source": [
    "YYN_results = vader_eval(YYN, 'YYN')"
   ]
  },
  {
   "cell_type": "code",
   "execution_count": 111,
   "id": "da42bf0c-8345-4066-8571-f7a55b6eeeea",
   "metadata": {},
   "outputs": [
    {
     "name": "stdout",
     "output_type": "stream",
     "text": [
      "----------RESULTS FOR NYY--------------------\n",
      "                                                data sentiment vader_category  \\\n",
      "0  BlackRock ProShares Bitcoin ETFs Surpass GBTC ...   neutral            neu   \n",
      "1  Stock Up 400 Pampa Metals PMMCF Options New Go...  positive            neu   \n",
      "2  Ethereum ETH Approaches 4000 In Multi Week Hig...   neutral            neu   \n",
      "3  After 141 Surge Golden Inu s Appears To Be Hea...   neutral            neu   \n",
      "4  10 18 Tuesday s Pre Market Stock Movers News G...  positive            neu   \n",
      "\n",
      "   vader_prob  result  \n",
      "0       1.000       1  \n",
      "1       1.000       0  \n",
      "2       0.784       1  \n",
      "3       1.000       1  \n",
      "4       0.867       0  \n",
      "0.5623130608175474\n"
     ]
    }
   ],
   "source": [
    "NYY_results = vader_eval(NYY, 'NYY')"
   ]
  },
  {
   "cell_type": "code",
   "execution_count": 112,
   "id": "7bd07e96-b6b0-4e65-bdeb-c81902bf19ed",
   "metadata": {},
   "outputs": [
    {
     "name": "stdout",
     "output_type": "stream",
     "text": [
      "----------RESULTS FOR YNY--------------------\n",
      "                                                data sentiment vader_category  \\\n",
      "0  BlackRock ProShares Bitcoin ETFs Surpass GBTC ...   neutral            neu   \n",
      "1  Stock Up 400 Pampa Metals PMMCF Options New Go...  positive            neu   \n",
      "2  Ethereum ETH Approaches 4000 In Multi Week Hig...   neutral            neu   \n",
      "3  After 141 Surge Golden Inu s Appears To Be Hea...   neutral            neu   \n",
      "4  10 18 Tuesday s Pre Market Stock Movers News G...  positive            neu   \n",
      "\n",
      "   vader_prob  result  \n",
      "0       1.000       1  \n",
      "1       1.000       0  \n",
      "2       0.784       1  \n",
      "3       1.000       1  \n",
      "4       0.867       0  \n",
      "0.5623130608175474\n"
     ]
    }
   ],
   "source": [
    "YNY_results = vader_eval(YNY, 'YNY')"
   ]
  },
  {
   "cell_type": "code",
   "execution_count": 113,
   "id": "eab22b61-8bf3-4992-8676-758e0ce59a73",
   "metadata": {},
   "outputs": [
    {
     "name": "stdout",
     "output_type": "stream",
     "text": [
      "----------RESULTS FOR YYY--------------------\n",
      "                                                data sentiment vader_category  \\\n",
      "0  BlackRock ProShares Bitcoin ETFs Surpass GBTC ...   neutral            neu   \n",
      "1  Stock Up 400 Pampa Metals PMMCF Options New Go...  positive            neu   \n",
      "2  Ethereum ETH Approaches 4000 In Multi Week Hig...   neutral            neu   \n",
      "3  After 141 Surge Golden Inu s Appears To Be Hea...   neutral            neu   \n",
      "4  10 18 Tuesday s Pre Market Stock Movers News G...  positive            neu   \n",
      "\n",
      "   vader_prob  result  \n",
      "0       1.000       1  \n",
      "1       1.000       0  \n",
      "2       0.784       1  \n",
      "3       1.000       1  \n",
      "4       0.867       0  \n",
      "0.5623130608175474\n"
     ]
    }
   ],
   "source": [
    "YYY_results = vader_eval(YYY, 'YYY')"
   ]
  },
  {
   "cell_type": "code",
   "execution_count": null,
   "id": "c70bf831-0d95-47cd-a48c-bd7b7cd8ad91",
   "metadata": {},
   "outputs": [],
   "source": []
  }
 ],
 "metadata": {
  "kernelspec": {
   "display_name": "Python 3 (ipykernel)",
   "language": "python",
   "name": "python3"
  },
  "language_info": {
   "codemirror_mode": {
    "name": "ipython",
    "version": 3
   },
   "file_extension": ".py",
   "mimetype": "text/x-python",
   "name": "python",
   "nbconvert_exporter": "python",
   "pygments_lexer": "ipython3",
   "version": "3.8.18"
  }
 },
 "nbformat": 4,
 "nbformat_minor": 5
}
